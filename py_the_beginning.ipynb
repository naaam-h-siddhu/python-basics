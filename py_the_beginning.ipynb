{
  "nbformat": 4,
  "nbformat_minor": 0,
  "metadata": {
    "colab": {
      "provenance": [],
      "collapsed_sections": [],
      "authorship_tag": "ABX9TyPwe1DqtsS8jYz94emGKbqb",
      "include_colab_link": true
    },
    "kernelspec": {
      "name": "python3",
      "display_name": "Python 3"
    },
    "language_info": {
      "name": "python"
    }
  },
  "cells": [
    {
      "cell_type": "markdown",
      "metadata": {
        "id": "view-in-github",
        "colab_type": "text"
      },
      "source": [
        "<a href=\"https://colab.research.google.com/github/naaam-h-siddhu/python-basics/blob/master/py_the_beginning.ipynb\" target=\"_parent\"><img src=\"https://colab.research.google.com/assets/colab-badge.svg\" alt=\"Open In Colab\"/></a>"
      ]
    },
    {
      "cell_type": "code",
      "source": [
        "from google.colab import drive\n",
        "drive.mount('/content/drive')"
      ],
      "metadata": {
        "id": "mS8NZBdqF0Oc"
      },
      "execution_count": null,
      "outputs": []
    },
    {
      "cell_type": "markdown",
      "source": [
        "**THE JOURNEY OF PYTHON BEGIN FROM HERE**"
      ],
      "metadata": {
        "id": "RHrtVklyCrLy"
      }
    },
    {
      "cell_type": "markdown",
      "source": [
        "# LEARNING\n",
        "\n",
        "> TYPES OF VARIABLE , \n",
        "> TAKING INPUT ,\n",
        "> TYPECASTING ,\n",
        "> ARITHMETIC OPERATOR ,\n",
        "> STRING ,\n",
        "> IF-ELSE ,\n",
        "> LOOPS ,\n",
        "> FUNCTIONS ,"
      ],
      "metadata": {
        "id": "jU2ZEQZkjVeW"
      }
    },
    {
      "cell_type": "code",
      "source": [
        "print(\"hello siddhu \");"
      ],
      "metadata": {
        "id": "e1uVyE5qC_4K"
      },
      "execution_count": null,
      "outputs": []
    },
    {
      "cell_type": "markdown",
      "source": [],
      "metadata": {
        "id": "N4p-QU17wKzl"
      }
    },
    {
      "cell_type": "markdown",
      "source": [
        "**TYPES OF VARIABLE IN PY**\n",
        "\n",
        "\n",
        "\n",
        "\n",
        "\n",
        "in py there is no need to declare variable type\n",
        "basically there are 4 types\n",
        "1. integer\n",
        "2. float\n",
        "3. String\n",
        "4. Bool(True,False)\n",
        "\n",
        "In python number can be store in 3 types that is int,float,complex\n",
        "\n",
        "int -88\n",
        "\n",
        "\n",
        "float-88.88\n",
        "\n",
        "complex-88ljkjfh"
      ],
      "metadata": {
        "id": "xubCYMpPGMPe"
      }
    },
    {
      "cell_type": "code",
      "source": [
        "name=\"siddhu\"\n",
        "age=\"18\"\n",
        "is_good=False\n",
        "print(\"my name is\", name, \"my age is \", age, \" am i good in coding\",is_good)\n",
        "#many variable in one line\n",
        "x, y, z=12,13,14\n",
        "print(x+y+z)\n",
        "#unpacking a collection\n",
        "fruits = [\"aam\", \"kela\", \"narangi\"]\n",
        "a,b,c = fruits\n",
        "print(a)\n",
        "print(b)\n",
        "print(c)\n"
      ],
      "metadata": {
        "id": "3F16qvNqG-Qq"
      },
      "execution_count": null,
      "outputs": []
    },
    {
      "cell_type": "markdown",
      "source": [
        "**TAKING INPUT AND STORING IN VARIABLE**\n"
      ],
      "metadata": {
        "id": "OFQ0yJG4KkEY"
      }
    },
    {
      "cell_type": "code",
      "source": [
        "name= input(\"bhai naam bata de yarr \")\n",
        "print(\"thike bhai mai ab tereko \",name,\" bolunga!\")\n",
        "age= input(\"apna age bata de bhai \")\n",
        "age=int(age)\n",
        "#BY DEFAULT IF WE TAKE INPUT IN PYTHON ITS STORE INPUT AS STRING\n",
        "#TO CHNAGE OR ADD VALUE TO IT\n",
        "new_age=age+5;\n",
        "print(\"chal jhutha tera real age\",new_age,\" hai\")"
      ],
      "metadata": {
        "id": "kZVvIFjZKsi0"
      },
      "execution_count": null,
      "outputs": []
    },
    {
      "cell_type": "markdown",
      "source": [
        "**TYPECASTING IN PYTHON**\n",
        "\n"
      ],
      "metadata": {
        "id": "dm6TrsplL4_U"
      }
    },
    {
      "cell_type": "code",
      "source": [
        "a=int(12.32)\n",
        "b=int(\"121\")\n",
        "\n",
        "print(a,\" \",b)\n"
      ],
      "metadata": {
        "id": "UedMfT74VntJ"
      },
      "execution_count": null,
      "outputs": []
    },
    {
      "cell_type": "markdown",
      "source": [
        "**ARITHMETIC OPERATORS IN PYTHON**"
      ],
      "metadata": {
        "id": "D-H4k9TQRivT"
      }
    },
    {
      "cell_type": "code",
      "source": [
        "a=5\n",
        "b=2\n",
        "aa= input(\"enter the number\")\n",
        "bb= input(\"enter the number\")\n",
        "print(int(aa)+int(bb))#we need to cast here bc it take string as input by default\n",
        "\n",
        "\n",
        "print(a+b,\" \",a-b,\" \",a*b,\" \")\n",
        "print(a%b)\n",
        "print(a**b)#to find the power of any number (pow(5,2) in c++)\n",
        "a+=10#i.e a=a+10\n",
        "print(a)\n",
        "result= 2+3*5\n",
        "print(result)"
      ],
      "metadata": {
        "id": "X16TcfsiRrFM"
      },
      "execution_count": null,
      "outputs": []
    },
    {
      "cell_type": "code",
      "source": [
        "print(5/2)\n",
        "#by default in python the / return float value but if we want only int value then we use //\n",
        "print(5//2)\n"
      ],
      "metadata": {
        "id": "gPuuP44KWg4G"
      },
      "execution_count": null,
      "outputs": []
    },
    {
      "cell_type": "markdown",
      "source": [
        "**PLAYING WITH STRING IN PYTHON**"
      ],
      "metadata": {
        "id": "HIq93tobXc4u"
      }
    },
    {
      "cell_type": "code",
      "source": [
        "name=\"Siddhu Singh\"\n",
        "#types of method\n",
        "print(name.upper())#change all char to upper case\n",
        "print(name.lower())#change all char to lower case \n",
        "print(name.find('S'))#Locations are same as array in c++ i.e 0,1,2,3......\n",
        "print(name.find('z'))#if not found then it return -1\n",
        "print(name.replace(\"Siddhu\", \"Sudhakar\"))#we can replace in char also\n",
        "print('S' in name)#to find the char or substring in python using \"in\"\n"
      ],
      "metadata": {
        "id": "0E5y8Nh2Xifn"
      },
      "execution_count": null,
      "outputs": []
    },
    {
      "cell_type": "markdown",
      "source": [
        "**STRING FORMATING**\n",
        "\n",
        "Python uses C-style string formating<br>\n",
        "%s - String (or any object with a string representation, like numbers)\n",
        "\n",
        "%d - Integers\n",
        "\n",
        "%f - Floating point numbers\n",
        "\n",
        "%.(number of digits)f - Floating point numbers with a fixed amount of digits to the right of the dot.\n",
        "\n",
        "%x/%X - Integers in hex representation (lowercase/uppercase)"
      ],
      "metadata": {
        "id": "z3ujO4c_4fNS"
      }
    },
    {
      "cell_type": "code",
      "source": [
        "name= \"John\"\n",
        "print(\"hello, %s!\" %name)"
      ],
      "metadata": {
        "id": "Fv16TZQi4-b6"
      },
      "execution_count": null,
      "outputs": []
    },
    {
      "cell_type": "code",
      "source": [
        "#TO use two or more element, use touple\n",
        "name=\"John\"\n",
        "age= 23\n",
        "print(\"%s is %d years old.\"%(name,age))"
      ],
      "metadata": {
        "id": "ELzzQiXq6MJV"
      },
      "execution_count": null,
      "outputs": []
    },
    {
      "cell_type": "markdown",
      "source": [
        ".**IF-ELSEIF-ELSE**"
      ],
      "metadata": {
        "id": "DC0Z69WLhYb0"
      }
    },
    {
      "cell_type": "code",
      "source": [
        "age=input(\"bhai apna age daal \")\n",
        "age=int(age)\n",
        "if age>=18:\n",
        "  print(\"you can vote\")\n",
        "elif age<18 and age>3:\n",
        "  print(\"you cannot vote but  u can easily walk\")\n",
        "else:\n",
        "  print(\"you are kid\")"
      ],
      "metadata": {
        "id": "nJAzU4abheJX"
      },
      "execution_count": null,
      "outputs": []
    },
    {
      "cell_type": "markdown",
      "source": [
        "**LOOPS & LIST**"
      ],
      "metadata": {
        "id": "_SHqM17JwAs4"
      }
    },
    {
      "cell_type": "code",
      "source": [
        "i=1\n",
        "while i<=5:\n",
        "  print(i*'*')\n",
        "  i+=1\n",
        "print(\"---------------\")\n",
        "j=5\n",
        "while i>=1:\n",
        "  print(i*'*')\n",
        "  i-=1\n",
        "\n",
        "\n",
        "#FOR LOOP\n",
        "for i in range(#WHILE LOOPS \n",
        "10):\n",
        "  print(i+1)\n",
        "print(\"----------------\")\n",
        "#LIST\n",
        "marks=[95, 98, 97]\n",
        "print(marks[0])\n",
        "print(marks[0:1])\n",
        "print()\n",
        "for j in marks:\n",
        "  print(j)\n",
        "#operation in list\n",
        "marks.append(99) #add the value to last \n",
        "marks.insert(1,90) #add the value to the specific address\n",
        "print(marks)\n",
        "print(90 in marks)#for chacking if the value is present or not \n",
        "print(\"the length of list is \",len(marks))#gives the size of th list\n",
        "print()\n",
        "it=0\n",
        "while it<len(marks):\n",
        "  print(marks[it])\n",
        "  it+=1\n",
        "marks.clear()#use to clear all the element of the list\n",
        "\n",
        "print(\"--------------------\")\n",
        "#BREAK AND CONTINUE\n",
        "\n",
        "students=[\"ram\",\"shyam\",\"kishan\",\"radha\",\"radhika\"]\n",
        "for stud in students:\n",
        "  if stud==\"kishan\":\n",
        "    break;\n",
        "  print(stud)\n",
        "for he in range(10):\n",
        "  if he==4:\n",
        "    continue;\n",
        "  print(he)"
      ],
      "metadata": {
        "id": "BVLHNb87wAaW"
      },
      "execution_count": null,
      "outputs": []
    },
    {
      "cell_type": "markdown",
      "source": [
        "**TUPLES() , SET{}  and DICTIONARY(KEY:VALUE)**"
      ],
      "metadata": {
        "id": "Nh0oTK0g7K9m"
      }
    },
    {
      "cell_type": "code",
      "source": [
        "marks=(95, 98, 97, 97, 97)\n",
        "#tuple doesn't allow many operation it only allow 2 ops\n",
        "print(marks.count(97))\n",
        "print(marks.index(97))\n",
        "\n",
        "print(\"----------------------\")\n",
        "\n",
        "#set are used to store only unique values\n",
        "nums={97,95,23,23,23}\n",
        "print(nums)\n",
        "\n",
        "\n",
        "print(\"----------------------\")\n",
        "\n",
        "\n",
        "#dictionary store a key along with the value (just like map in c++)\n",
        "info= {\"english\" : 98,\"chemistry\" : 99,\"math\" : 86}\n",
        "print(\"marks of chemistry is \", info[\"chemistry\"])\n",
        "info[\"physics\"]=96\n",
        "print(info)\n",
        "\n"
      ],
      "metadata": {
        "id": "xzC0Cqel7Til"
      },
      "execution_count": null,
      "outputs": []
    },
    {
      "cell_type": "markdown",
      "source": [
        "**FUNCTIONS**"
      ],
      "metadata": {
        "id": "eBf6vzgx9_d7"
      }
    },
    {
      "cell_type": "code",
      "source": [
        "#PYHTON MODULE\n",
        "import math\n",
        "#to import a specific function only\n",
        "from math import sqrt #to import all the function we use \"*\"\n",
        "#print(dir(math))#to get the list of functions present in the module\n",
        "print(sqrt(4))\n",
        "\n",
        "\n",
        "print(\"--------------\")\n",
        "#USER DEFINED FUNCTIONS\n",
        "#def function_name(parameters):\n",
        "#   //do something\n",
        "def return_sum(a,b=100):\n",
        "  print(a+b)\n",
        "return_sum(10)"
      ],
      "metadata": {
        "id": "nVxwZ6d4-DL4"
      },
      "execution_count": null,
      "outputs": []
    },
    {
      "cell_type": "markdown",
      "source": [
        "# EXAMPLES/PROJECTS\n",
        "> CALCULATOR ,"
      ],
      "metadata": {
        "id": "NM5zckuRj8Wj"
      }
    },
    {
      "cell_type": "markdown",
      "source": [
        "***CALCULATOR***"
      ],
      "metadata": {
        "id": "evh_nqq_kGvI"
      }
    },
    {
      "cell_type": "code",
      "source": [
        "a=int(input(\"enter first number \"))\n",
        "b=int(input(\"enter second number \"))\n",
        "op=input(\"enter the operator \")\n",
        "if op=='+':\n",
        "  print(\"the sum is \",a+b)\n",
        "elif op=='-':\n",
        "  print(\"the difference is \",abs(a-b))\n",
        "elif op=='*':\n",
        "  print(\"the product is \",a*b)\n",
        "elif op=='/':\n",
        "  print(\"the quotient is \", a/2)\n",
        "elif op=='%':\n",
        "  print(\"the remainder is \",a/b)\n",
        "else:\n",
        "  print(\"bhai acccha operator daal na qa daal rha h tu \")\n"
      ],
      "metadata": {
        "id": "6mLAuy05kFR3"
      },
      "execution_count": null,
      "outputs": []
    }
  ]
}