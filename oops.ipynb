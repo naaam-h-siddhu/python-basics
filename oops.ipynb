{
  "nbformat": 4,
  "nbformat_minor": 0,
  "metadata": {
    "colab": {
      "provenance": [],
      "authorship_tag": "ABX9TyMMHySwWxj95IU3UPPKDccR",
      "include_colab_link": true
    },
    "kernelspec": {
      "name": "python3",
      "display_name": "Python 3"
    },
    "language_info": {
      "name": "python"
    }
  },
  "cells": [
    {
      "cell_type": "markdown",
      "metadata": {
        "id": "view-in-github",
        "colab_type": "text"
      },
      "source": [
        "<a href=\"https://colab.research.google.com/github/naaam-h-siddhu/python-basics/blob/master/oops.ipynb\" target=\"_parent\"><img src=\"https://colab.research.google.com/assets/colab-badge.svg\" alt=\"Open In Colab\"/></a>"
      ]
    },
    {
      "cell_type": "markdown",
      "source": [],
      "metadata": {
        "id": "5b7MbgZtPmUc"
      }
    },
    {
      "cell_type": "markdown",
      "source": [
        "**CLASS AND OBJECTS**"
      ],
      "metadata": {
        "id": "cY8-LWSqPoWT"
      }
    },
    {
      "cell_type": "code",
      "execution_count": null,
      "metadata": {
        "id": "ybkxqACHPjej"
      },
      "outputs": [],
      "source": [
        "class Bike:\n",
        "  def set_color(self,color):\n",
        "    self.color=color\n",
        "  def set_comp(self,comp):\n",
        "    self.comp=comp\n",
        "  def status(self):\n",
        "    print(\"bike is running\")\n",
        "  def detail(self):\n",
        "    print(\"color of the bike is\",self.color,\"bike conpany is\",self.comp)\n",
        "  def gear(self):\n",
        "    print(\"bike is in 2nd gear\")\n",
        "\n",
        "obj=Bike()\n",
        "obj.status()\n",
        "obj.gear()\n",
        "obj.set_color(\"blue\")\n",
        "obj.set_comp(\"hond\")\n",
        "obj.detail()"
      ]
    }
  ]
}